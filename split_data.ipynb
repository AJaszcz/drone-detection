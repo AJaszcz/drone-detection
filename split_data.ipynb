{
 "cells": [
  {
   "cell_type": "code",
   "id": "84ed67655ead100",
   "metadata": {
    "collapsed": true,
    "ExecuteTime": {
     "end_time": "2024-06-06T16:26:35.352420Z",
     "start_time": "2024-06-06T16:26:35.323681Z"
    }
   },
   "source": [
    "import os\n",
    "import random\n",
    "import shutil"
   ],
   "outputs": [],
   "execution_count": 4
  },
  {
   "metadata": {
    "ExecuteTime": {
     "end_time": "2024-06-06T16:28:06.334705Z",
     "start_time": "2024-06-06T16:28:06.323284Z"
    }
   },
   "cell_type": "code",
   "source": [
    "\n",
    "# Define paths\n",
    "images_dir = 'dataset/yolo_dataset/images'\n",
    "labels_dir = 'dataset/yolo_dataset/labels'\n",
    "train_images_dir = 'dataset/yolo_dataset/train/images'\n",
    "val_images_dir = 'dataset/yolo_dataset/val/images'\n",
    "train_labels_dir = 'dataset/yolo_dataset/train/labels'\n",
    "val_labels_dir = 'dataset/yolo_dataset/val/labels'\n",
    "\n",
    "test_labels_dir = 'dataset/yolo_dataset/test/labels'\n",
    "test_images_dir = 'dataset/yolo_dataset/test/images'\n",
    "\n",
    "# Create directories\n",
    "os.makedirs(train_images_dir, exist_ok=True)\n",
    "os.makedirs(val_images_dir, exist_ok=True)\n",
    "os.makedirs(train_labels_dir, exist_ok=True)\n",
    "os.makedirs(val_labels_dir, exist_ok=True)\n",
    "os.makedirs(test_labels_dir, exist_ok=True)\n",
    "os.makedirs(test_images_dir, exist_ok=True)\n",
    "\n",
    "# List all images and labels\n",
    "images = [f for f in os.listdir(images_dir) if f.endswith('.jpg') or f.endswith('.png')]\n",
    "labels = [f for f in os.listdir(labels_dir) if f.endswith('.txt')]"
   ],
   "id": "814fd3f5bf7a57b0",
   "outputs": [],
   "execution_count": 11
  },
  {
   "metadata": {
    "ExecuteTime": {
     "end_time": "2024-06-06T16:28:08.767692Z",
     "start_time": "2024-06-06T16:28:06.681444Z"
    }
   },
   "cell_type": "code",
   "source": [
    "\n",
    "# Ensure matching images and labels\n",
    "images.sort()\n",
    "labels.sort()\n",
    "\n",
    "# Split into train and val sets\n",
    "split_ratio_train_val = 0.7\n",
    "split_ratio_val_test = 0.9\n",
    "split_index_train_val = int(len(images) * split_ratio_train_val)\n",
    "split_index_val_test = int(len(images) * split_ratio_val_test)\n",
    "\n",
    "# shuffle images\n",
    "random.shuffle(images)\n",
    "train_images = images[:split_index_train_val]\n",
    "val_images = images[split_index_train_val:split_index_val_test] \n",
    "test_images = images[split_index_val_test:]\n",
    "\n",
    "\n",
    "# Copy files to respective directories\n",
    "for img in train_images:\n",
    "    shutil.copy(os.path.join(images_dir, img), train_images_dir)\n",
    "    label = img.replace('.jpg', '.txt').replace('.png', '.txt')\n",
    "    shutil.copy(os.path.join(labels_dir, label), train_labels_dir)\n",
    "\n",
    "for img in val_images:\n",
    "    shutil.copy(os.path.join(images_dir, img), val_images_dir)\n",
    "    label = img.replace('.jpg', '.txt').replace('.png', '.txt')\n",
    "    shutil.copy(os.path.join(labels_dir, label), val_labels_dir)\n",
    "    \n",
    "for img in test_images:\n",
    "    shutil.copy(os.path.join(images_dir, img), test_images_dir)\n",
    "    label = img.replace('.jpg', '.txt').replace('.png', '.txt')\n",
    "    shutil.copy(os.path.join(labels_dir, label), test_labels_dir)\n",
    "\n",
    "print(\"Data split completed.\")\n"
   ],
   "id": "initial_id",
   "outputs": [
    {
     "name": "stdout",
     "output_type": "stream",
     "text": [
      "Data split completed.\n"
     ]
    }
   ],
   "execution_count": 12
  },
  {
   "metadata": {},
   "cell_type": "code",
   "outputs": [],
   "execution_count": null,
   "source": "",
   "id": "c15957c49b2a4f57"
  }
 ],
 "metadata": {
  "kernelspec": {
   "display_name": "Python 3",
   "language": "python",
   "name": "python3"
  },
  "language_info": {
   "codemirror_mode": {
    "name": "ipython",
    "version": 2
   },
   "file_extension": ".py",
   "mimetype": "text/x-python",
   "name": "python",
   "nbconvert_exporter": "python",
   "pygments_lexer": "ipython2",
   "version": "2.7.6"
  }
 },
 "nbformat": 4,
 "nbformat_minor": 5
}
